{
 "cells": [
  {
   "cell_type": "code",
   "execution_count": 1,
   "metadata": {},
   "outputs": [],
   "source": [
    "import pandas as pd\n",
    "from datetime import datetime"
   ]
  },
  {
   "cell_type": "markdown",
   "metadata": {},
   "source": [
    "**Data set about Value of Energy Cost Saving Program for businesses in New York City**"
   ]
  },
  {
   "cell_type": "code",
   "execution_count": 2,
   "metadata": {},
   "outputs": [],
   "source": [
    "df=pd.read_csv('Value_of_Energy_Cost_Savings_Program_Savings_for_Businesses_-_FY2020.csv',parse_dates=['Effective Date'], date_parser=lambda x: datetime.strptime(x,'%m/%d/%Y'))"
   ]
  },
  {
   "cell_type": "code",
   "execution_count": 3,
   "metadata": {},
   "outputs": [
    {
     "name": "stdout",
     "output_type": "stream",
     "text": [
      "Shape of the data frame: (450, 26)\n",
      "Column names: Index(['Company Name', 'company contact', 'company email', 'company phone',\n",
      "       'Address', 'City', 'State', 'Postcode', 'Industry', 'Industry descr',\n",
      "       'Company Type', 'Current fulltime', 'Job created', 'Job retain',\n",
      "       'Effective Date', 'Total Savings',\n",
      "       'Savings from beginning receiving benefits', 'Borough', 'Latitude',\n",
      "       'Longitude', 'Community Board', 'Council District', 'Census Tract',\n",
      "       'BIN', 'BBL', 'NTA'],\n",
      "      dtype='object')\n",
      "Row names: RangeIndex(start=0, stop=450, step=1)\n"
     ]
    }
   ],
   "source": [
    "#TABLE INFORMATION:\n",
    "#print('More information:', df.info())\n",
    "#print('Data Types:', df.dtypes)\n",
    "print('Shape of the data frame:', df.shape)\n",
    "# No. of Columns: 450 columns \n",
    "print('Column names:', df.columns)\n",
    "# No. of Rows: 26 rows\n",
    "print('Row names:', df.index)"
   ]
  },
  {
   "cell_type": "markdown",
   "metadata": {},
   "source": [
    "### DAY 4 ACTION ITEMS\n",
    "\n",
    "1. How many different companies are represented in the data set?\n",
    "2. What is the total number of jobs created for businesses in Queens?\n",
    "3. How many different unique email domains names are there in the data set?\n",
    "4. Considering only NTAs with at least 5 listed businesses, what is the average total savings and the total jobs created for each NTA?\n",
    "5. Save your result for the previous question as a CSV file."
   ]
  },
  {
   "cell_type": "code",
   "execution_count": 4,
   "metadata": {},
   "outputs": [
    {
     "name": "stdout",
     "output_type": "stream",
     "text": [
      "There are 439 different companies in the data set.\n"
     ]
    }
   ],
   "source": [
    "#Q1: How many different companies are represented in the data set?\n",
    "#A1: 439\n",
    "\n",
    "#METHOD 1\n",
    "#df['Company Name'].value_counts()\n",
    "\n",
    "#METHOD 2\n",
    "d4q1=len(df['Company Name'].unique())\n",
    "\n",
    "print(f'There are {d4q1} different companies in the data set.')"
   ]
  },
  {
   "cell_type": "code",
   "execution_count": 5,
   "metadata": {},
   "outputs": [
    {
     "name": "stdout",
     "output_type": "stream",
     "text": [
      "The total number of jobs created for businesses in Queens is 102.\n"
     ]
    }
   ],
   "source": [
    "#Q2: What is the total number of jobs created for businesses in Queens?\n",
    "#A2:102\n",
    "\n",
    "#METHOD 1: FILTERING\n",
    "filt=df['Borough']=='Queens'\n",
    "d4q2=df[filt]['Job created'].sum()\n",
    "\n",
    "#METHOD 2: GROUPING\n",
    "#df['Job created'].sum()\n",
    "#df_grp=df.groupby(['Borough'])\n",
    "#df_grp['Job created'].sum()\n",
    "#df_grp.get_group('Queens')['Job created'].sum()\n",
    "print('The total number of jobs created for businesses in Queens is {0:3.0f}.'.format(d4q2))"
   ]
  },
  {
   "cell_type": "code",
   "execution_count": 6,
   "metadata": {},
   "outputs": [
    {
     "name": "stdout",
     "output_type": "stream",
     "text": [
      "There are 361 different unique email domains names are there in the data set.\n"
     ]
    }
   ],
   "source": [
    "#Q3: How many different unique email domains names are there in the data set?\n",
    "#A3: 361\n",
    "emails=df['company email'].str.rsplit('@')\n",
    "emails=emails[-emails.isna()]\n",
    "domains=emails.apply(lambda x: x[-1])\n",
    "d4q3=len(domains.unique())\n",
    "print('There are {0:d} different unique email domains names are there in the data set.'.format(d4q3))"
   ]
  },
  {
   "cell_type": "code",
   "execution_count": 7,
   "metadata": {},
   "outputs": [
    {
     "data": {
      "text/html": [
       "<div>\n",
       "<style scoped>\n",
       "    .dataframe tbody tr th:only-of-type {\n",
       "        vertical-align: middle;\n",
       "    }\n",
       "\n",
       "    .dataframe tbody tr th {\n",
       "        vertical-align: top;\n",
       "    }\n",
       "\n",
       "    .dataframe thead th {\n",
       "        text-align: right;\n",
       "    }\n",
       "</style>\n",
       "<table border=\"1\" class=\"dataframe\">\n",
       "  <thead>\n",
       "    <tr style=\"text-align: right;\">\n",
       "      <th></th>\n",
       "      <th>Unnamed: 0</th>\n",
       "      <th>NTA</th>\n",
       "      <th>Average Savings</th>\n",
       "      <th>Job created</th>\n",
       "    </tr>\n",
       "  </thead>\n",
       "  <tbody>\n",
       "    <tr>\n",
       "      <th>0</th>\n",
       "      <td>Hunters Point-Sunnyside-West Maspeth</td>\n",
       "      <td>75</td>\n",
       "      <td>23931.398933</td>\n",
       "      <td>0.0</td>\n",
       "    </tr>\n",
       "    <tr>\n",
       "      <th>1</th>\n",
       "      <td>Sunset Park West</td>\n",
       "      <td>48</td>\n",
       "      <td>14316.976875</td>\n",
       "      <td>0.0</td>\n",
       "    </tr>\n",
       "    <tr>\n",
       "      <th>2</th>\n",
       "      <td>Queensbridge-Ravenswood-Long Island City</td>\n",
       "      <td>16</td>\n",
       "      <td>61830.770625</td>\n",
       "      <td>0.0</td>\n",
       "    </tr>\n",
       "    <tr>\n",
       "      <th>3</th>\n",
       "      <td>park-cemetery-etc-Brooklyn</td>\n",
       "      <td>15</td>\n",
       "      <td>14327.419333</td>\n",
       "      <td>0.0</td>\n",
       "    </tr>\n",
       "    <tr>\n",
       "      <th>4</th>\n",
       "      <td>Greenpoint</td>\n",
       "      <td>14</td>\n",
       "      <td>9753.649286</td>\n",
       "      <td>0.0</td>\n",
       "    </tr>\n",
       "    <tr>\n",
       "      <th>5</th>\n",
       "      <td>Mott Haven-Port Morris</td>\n",
       "      <td>14</td>\n",
       "      <td>17843.937857</td>\n",
       "      <td>10.0</td>\n",
       "    </tr>\n",
       "    <tr>\n",
       "      <th>6</th>\n",
       "      <td>Hunts Point</td>\n",
       "      <td>13</td>\n",
       "      <td>39246.016154</td>\n",
       "      <td>12.0</td>\n",
       "    </tr>\n",
       "    <tr>\n",
       "      <th>7</th>\n",
       "      <td>East Williamsburg</td>\n",
       "      <td>11</td>\n",
       "      <td>13990.626364</td>\n",
       "      <td>0.0</td>\n",
       "    </tr>\n",
       "    <tr>\n",
       "      <th>8</th>\n",
       "      <td>Carroll Gardens-Columbia Street-Red Hook</td>\n",
       "      <td>11</td>\n",
       "      <td>24337.390000</td>\n",
       "      <td>0.0</td>\n",
       "    </tr>\n",
       "    <tr>\n",
       "      <th>9</th>\n",
       "      <td>Bushwick South</td>\n",
       "      <td>10</td>\n",
       "      <td>26140.455000</td>\n",
       "      <td>10.0</td>\n",
       "    </tr>\n",
       "    <tr>\n",
       "      <th>10</th>\n",
       "      <td>DUMBO-Vinegar Hill-Downtown Brooklyn-Boerum Hill</td>\n",
       "      <td>10</td>\n",
       "      <td>59950.340000</td>\n",
       "      <td>0.0</td>\n",
       "    </tr>\n",
       "    <tr>\n",
       "      <th>11</th>\n",
       "      <td>East New York</td>\n",
       "      <td>9</td>\n",
       "      <td>48433.093333</td>\n",
       "      <td>15.0</td>\n",
       "    </tr>\n",
       "    <tr>\n",
       "      <th>12</th>\n",
       "      <td>Maspeth</td>\n",
       "      <td>9</td>\n",
       "      <td>6658.283333</td>\n",
       "      <td>10.0</td>\n",
       "    </tr>\n",
       "    <tr>\n",
       "      <th>13</th>\n",
       "      <td>Crown Heights North</td>\n",
       "      <td>9</td>\n",
       "      <td>4036.298889</td>\n",
       "      <td>0.0</td>\n",
       "    </tr>\n",
       "    <tr>\n",
       "      <th>14</th>\n",
       "      <td>Manhattanville</td>\n",
       "      <td>9</td>\n",
       "      <td>2760.888889</td>\n",
       "      <td>0.0</td>\n",
       "    </tr>\n",
       "    <tr>\n",
       "      <th>15</th>\n",
       "      <td>Battery Park City-Lower Manhattan</td>\n",
       "      <td>9</td>\n",
       "      <td>469890.796667</td>\n",
       "      <td>0.0</td>\n",
       "    </tr>\n",
       "    <tr>\n",
       "      <th>16</th>\n",
       "      <td>Steinway</td>\n",
       "      <td>7</td>\n",
       "      <td>11227.155714</td>\n",
       "      <td>20.0</td>\n",
       "    </tr>\n",
       "    <tr>\n",
       "      <th>17</th>\n",
       "      <td>College Point</td>\n",
       "      <td>7</td>\n",
       "      <td>17159.372857</td>\n",
       "      <td>2.0</td>\n",
       "    </tr>\n",
       "    <tr>\n",
       "      <th>18</th>\n",
       "      <td>Springfield Gardens South-Brookville</td>\n",
       "      <td>5</td>\n",
       "      <td>17757.662000</td>\n",
       "      <td>0.0</td>\n",
       "    </tr>\n",
       "    <tr>\n",
       "      <th>19</th>\n",
       "      <td>SoHo-TriBeCa-Civic Center-Little Italy</td>\n",
       "      <td>5</td>\n",
       "      <td>37214.024000</td>\n",
       "      <td>0.0</td>\n",
       "    </tr>\n",
       "  </tbody>\n",
       "</table>\n",
       "</div>"
      ],
      "text/plain": [
       "                                          Unnamed: 0  NTA  Average Savings  \\\n",
       "0               Hunters Point-Sunnyside-West Maspeth   75     23931.398933   \n",
       "1                                   Sunset Park West   48     14316.976875   \n",
       "2           Queensbridge-Ravenswood-Long Island City   16     61830.770625   \n",
       "3                         park-cemetery-etc-Brooklyn   15     14327.419333   \n",
       "4                                         Greenpoint   14      9753.649286   \n",
       "5                             Mott Haven-Port Morris   14     17843.937857   \n",
       "6                                        Hunts Point   13     39246.016154   \n",
       "7                                  East Williamsburg   11     13990.626364   \n",
       "8           Carroll Gardens-Columbia Street-Red Hook   11     24337.390000   \n",
       "9                                     Bushwick South   10     26140.455000   \n",
       "10  DUMBO-Vinegar Hill-Downtown Brooklyn-Boerum Hill   10     59950.340000   \n",
       "11                                     East New York    9     48433.093333   \n",
       "12                                           Maspeth    9      6658.283333   \n",
       "13                               Crown Heights North    9      4036.298889   \n",
       "14                                    Manhattanville    9      2760.888889   \n",
       "15                 Battery Park City-Lower Manhattan    9    469890.796667   \n",
       "16                                          Steinway    7     11227.155714   \n",
       "17                                     College Point    7     17159.372857   \n",
       "18              Springfield Gardens South-Brookville    5     17757.662000   \n",
       "19            SoHo-TriBeCa-Civic Center-Little Italy    5     37214.024000   \n",
       "\n",
       "    Job created  \n",
       "0           0.0  \n",
       "1           0.0  \n",
       "2           0.0  \n",
       "3           0.0  \n",
       "4           0.0  \n",
       "5          10.0  \n",
       "6          12.0  \n",
       "7           0.0  \n",
       "8           0.0  \n",
       "9          10.0  \n",
       "10          0.0  \n",
       "11         15.0  \n",
       "12         10.0  \n",
       "13          0.0  \n",
       "14          0.0  \n",
       "15          0.0  \n",
       "16         20.0  \n",
       "17          2.0  \n",
       "18          0.0  \n",
       "19          0.0  "
      ]
     },
     "execution_count": 7,
     "metadata": {},
     "output_type": "execute_result"
    }
   ],
   "source": [
    "#Task 4: Considering only NTAs with at least 5 listed businesses, ...\n",
    "#   what is the average total savings and the total jobs created for each NTA?\n",
    "\n",
    "#METHOD 1\n",
    "df_grp2=df.groupby(['NTA'])\n",
    "#create new data frame with unique NTAs as row index and has columns: \n",
    "ntas=pd.DataFrame(df['NTA'].value_counts())\n",
    "ntas['Average Savings']=df_grp2[['Total Savings']].mean()\n",
    "ntas['Job created']=df_grp2[['Job created']].sum()\n",
    "#filter so that we only see values of NTAs with 5 listed businesses \n",
    "filt=ntas['NTA']>=5\n",
    "data_D4Q4=ntas[filt]\n",
    "data_D4Q4.to_csv('data_D4Q4.csv')\n",
    "##METHOD 2\n",
    "##create new data frame with unique NTAs as row index and has columns: \n",
    "#ntas2=pd.DataFrame(df_grp2['Company Name'].agg(lambda x: x.value_counts().sum()))\n",
    "#ntas2.rename(columns={'Company Name': 'No. Companies'},inplace=True)\n",
    "#ntas2['Total Savings']=df_grp2[['Total Savings']].mean()\n",
    "#ntas2['Job created']=df_grp2[['Job created']].sum()\n",
    "#ntas2\n",
    "##filter so that we only see values of NTAs with 5 listed businesses \n",
    "#filt2=ntas2['No. Companies']>=5\n",
    "#data_D4Q4_2=ntas2[filt2].sort_values(['No. Companies'],ascending=False)\n",
    "pd.read_csv('data_D4Q4.csv')"
   ]
  },
  {
   "cell_type": "markdown",
   "metadata": {},
   "source": [
    "### DAY 5 ACTION ITEMS\n",
    "\n",
    "1. Create a scatter plot of jobs created versus average savings. Use both a standard and a logarithmic scale for the average savings.\n",
    "2. Create histogram of the log of the average total savings.\n",
    "3. Create a line plot of the total jobs created for each month."
   ]
  },
  {
   "cell_type": "code",
   "execution_count": 8,
   "metadata": {},
   "outputs": [],
   "source": [
    "import matplotlib as mpl\n",
    "import matplotlib.pyplot as plt\n",
    "import numpy as np"
   ]
  },
  {
   "cell_type": "code",
   "execution_count": 9,
   "metadata": {},
   "outputs": [],
   "source": [
    "x=np.array(data_D4Q4['Job created'])\n",
    "y=np.array(data_D4Q4['Average Savings'])"
   ]
  },
  {
   "cell_type": "code",
   "execution_count": 10,
   "metadata": {
    "scrolled": true
   },
   "outputs": [
    {
     "data": {
      "text/plain": [
       "Text(0, 0.5, 'Average Savings')"
      ]
     },
     "execution_count": 10,
     "metadata": {},
     "output_type": "execute_result"
    },
    {
     "data": {
      "image/png": "[encoded data removed]",
      "text/plain": [
       "<Figure size 1440x360 with 2 Axes>"
      ]
     },
     "metadata": {
      "needs_background": "light"
     },
     "output_type": "display_data"
    }
   ],
   "source": [
    "#Task 1: Create a scatter plot of jobs created versus average savings. Use both a standard and a logarithmic scale for the average savings.\n",
    "fig, ax = plt.subplots(1,2,figsize=(20, 5))\n",
    "ax[0].scatter(x, y, facecolor='C0', edgecolor='k');\n",
    "ax[0].set_xlabel('Jobs created')\n",
    "ax[0].set_ylabel('Average Savings')\n",
    "ax[0].set_title('Standard Scale')\n",
    "ax[1].set_yscale('log')\n",
    "ax[1].scatter(x, y, facecolor='r', edgecolor='k');\n",
    "ax[1].set_title('Logarithmic Scale')\n",
    "ax[1].set_xlabel('Jobs created')\n",
    "ax[1].set_ylabel('Average Savings')"
   ]
  },
  {
   "cell_type": "code",
   "execution_count": 11,
   "metadata": {},
   "outputs": [
    {
     "data": {
      "text/plain": [
       "Text(0.5, 1.0, 'Log of Average Savings')"
      ]
     },
     "execution_count": 11,
     "metadata": {},
     "output_type": "execute_result"
    },
    {
     "data": {
      "image/png": "[encoded data removed]",
      "text/plain": [
       "<Figure size 432x288 with 1 Axes>"
      ]
     },
     "metadata": {
      "needs_background": "light"
     },
     "output_type": "display_data"
    }
   ],
   "source": [
    "#TASK 2: Create histogram of the log of the average total savings.\n",
    "fig2, ax2 = plt.subplots()\n",
    "#ax2.set_xscale('log')\n",
    "ax2.hist(np.log(y))\n",
    "ax2.set_title('Log of Average Savings')\n"
   ]
  },
  {
   "cell_type": "code",
   "execution_count": 12,
   "metadata": {},
   "outputs": [
    {
     "data": {
      "text/plain": [
       "Text(0.5, 1.0, 'Jobs created Monthly')"
      ]
     },
     "execution_count": 12,
     "metadata": {},
     "output_type": "execute_result"
    },
    {
     "data": {
      "image/png": "[encoded data removed]",
      "text/plain": [
       "<Figure size 432x288 with 1 Axes>"
      ]
     },
     "metadata": {
      "needs_background": "light"
     },
     "output_type": "display_data"
    }
   ],
   "source": [
    "#TASK 3: Create a line plot of the total jobs created for each month.\n",
    "myseries=df['Job created']\n",
    "myseries.index=df['Effective Date']\n",
    "myseries=myseries.fillna(0)\n",
    "myseries_mos=myseries.resample('M').sum()\n",
    "fig3, ax3 = plt.subplots()\n",
    "ax3.plot(myseries_mos)\n",
    "ax3.set_xlabel('Month')\n",
    "ax3.set_ylabel('Jobs Created')\n",
    "ax3.set_title('Jobs created Monthly')\n"
   ]
  },
  {
   "cell_type": "code",
   "execution_count": null,
   "metadata": {},
   "outputs": [],
   "source": []
  }
 ],
 "metadata": {
  "kernelspec": {
   "display_name": "Python 3 (ipykernel)",
   "language": "python",
   "name": "python3"
  },
  "language_info": {
   "codemirror_mode": {
    "name": "ipython",
    "version": 3
   },
   "file_extension": ".py",
   "mimetype": "text/x-python",
   "name": "python",
   "nbconvert_exporter": "python",
   "pygments_lexer": "ipython3",
   "version": "3.9.7"
  }
 },
 "nbformat": 4,
 "nbformat_minor": 4
}
